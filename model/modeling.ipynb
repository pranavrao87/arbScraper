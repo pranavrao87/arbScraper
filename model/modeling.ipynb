{
 "cells": [
  {
   "cell_type": "code",
   "execution_count": null,
   "metadata": {},
   "outputs": [],
   "source": [
    "import pandas as pd\n",
    "from sklearn.linear_model import LogisticRegression\n",
    "from sklearn.model_selection import train_test_split\n",
    "from sklearn.metrics import accuracy_score, classification_report, confusion_matrix, roc_auc_score\n",
    "import numpy as np\n",
    "import pandas as pd\n",
    "import matplotlib.pyplot as plt"
   ]
  },
  {
   "cell_type": "markdown",
   "metadata": {},
   "source": [
    "Starting off w/ just batting statistics (no pitching stuff just yet)\n",
    "- On Base Percentage (last season avg and last 30 games)\n",
    "- Slugging Percentage (last season avg and last 30 games) "
   ]
  },
  {
   "cell_type": "code",
   "execution_count": 17,
   "metadata": {},
   "outputs": [
    {
     "name": "stderr",
     "output_type": "stream",
     "text": [
      "/var/folders/x4/9gxy2p1d4nd09kxmx07_g7b00000gn/T/ipykernel_5604/3410908323.py:1: DtypeWarning: Columns (15) have mixed types. Specify dtype option on import or set low_memory=False.\n",
      "  df = pd.read_csv(\"df_bp1.csv\")\n"
     ]
    }
   ],
   "source": [
    "df = pd.read_csv(\"df_bp1.csv\")\n",
    "\n",
    "\n",
    "features = [\"OBP_162_h\", \"OBP_162_v\", \"SLG_162_h\", \"SLG_162_v\",\n",
    "            \"OBP_30_h\", \"OBP_30_v\", \"SLG_30_h\", \"SLG_30_v\",]\n",
    "\n",
    "target = \"home_victory\"\n",
    "\n",
    "X = df.loc[:,features]\n",
    "y = df[target]\n",
    "\n",
    "\n",
    "X_train, X_test, y_train, y_test = train_test_split(X, y, test_size=0.2, stratify=y, random_state=42)\n",
    "\n",
    "model = LogisticRegression()\n",
    "model.fit(X_train, y_train)\n",
    "\n",
    "y_pred = model.predict(X_test)\n"
   ]
  },
  {
   "cell_type": "code",
   "execution_count": 18,
   "metadata": {},
   "outputs": [
    {
     "name": "stdout",
     "output_type": "stream",
     "text": [
      "Accuracy: 0.533351409978308\n"
     ]
    }
   ],
   "source": [
    "print(\"Accuracy:\", accuracy_score(y_test, y_pred))"
   ]
  },
  {
   "cell_type": "code",
   "execution_count": 19,
   "metadata": {},
   "outputs": [
    {
     "data": {
      "text/html": [
       "<div>\n",
       "<style scoped>\n",
       "    .dataframe tbody tr th:only-of-type {\n",
       "        vertical-align: middle;\n",
       "    }\n",
       "\n",
       "    .dataframe tbody tr th {\n",
       "        vertical-align: top;\n",
       "    }\n",
       "\n",
       "    .dataframe thead th {\n",
       "        text-align: right;\n",
       "    }\n",
       "</style>\n",
       "<table border=\"1\" class=\"dataframe\">\n",
       "  <thead>\n",
       "    <tr style=\"text-align: right;\">\n",
       "      <th></th>\n",
       "      <th>date</th>\n",
       "      <th>dblheader_code</th>\n",
       "      <th>day_of_week</th>\n",
       "      <th>team_v</th>\n",
       "      <th>league_v</th>\n",
       "      <th>game_no_v</th>\n",
       "      <th>team_h</th>\n",
       "      <th>league_h</th>\n",
       "      <th>game_no_h</th>\n",
       "      <th>runs_v</th>\n",
       "      <th>...</th>\n",
       "      <th>CS_30_v</th>\n",
       "      <th>ERR_162_h</th>\n",
       "      <th>ERR_162_v</th>\n",
       "      <th>ERR_30_h</th>\n",
       "      <th>ERR_30_v</th>\n",
       "      <th>ML_h</th>\n",
       "      <th>ML_v</th>\n",
       "      <th>imp_prob_h</th>\n",
       "      <th>imp_prob_v</th>\n",
       "      <th>imp_prob_mid_h</th>\n",
       "    </tr>\n",
       "  </thead>\n",
       "  <tbody>\n",
       "    <tr>\n",
       "      <th>15854</th>\n",
       "      <td>2016-05-21</td>\n",
       "      <td>0</td>\n",
       "      <td>Sat</td>\n",
       "      <td>WAS</td>\n",
       "      <td>NL</td>\n",
       "      <td>43</td>\n",
       "      <td>MIA</td>\n",
       "      <td>NL</td>\n",
       "      <td>42</td>\n",
       "      <td>2</td>\n",
       "      <td>...</td>\n",
       "      <td>0.0</td>\n",
       "      <td>0.0</td>\n",
       "      <td>0.0</td>\n",
       "      <td>0.0</td>\n",
       "      <td>0.0</td>\n",
       "      <td>-142.0</td>\n",
       "      <td>127.0</td>\n",
       "      <td>0.586777</td>\n",
       "      <td>0.440529</td>\n",
       "      <td>0.573124</td>\n",
       "    </tr>\n",
       "    <tr>\n",
       "      <th>26356</th>\n",
       "      <td>2020-09-06</td>\n",
       "      <td>0</td>\n",
       "      <td>Sun</td>\n",
       "      <td>MIL</td>\n",
       "      <td>NL</td>\n",
       "      <td>39</td>\n",
       "      <td>CLE</td>\n",
       "      <td>AL</td>\n",
       "      <td>40</td>\n",
       "      <td>1</td>\n",
       "      <td>...</td>\n",
       "      <td>0.0</td>\n",
       "      <td>0.0</td>\n",
       "      <td>0.0</td>\n",
       "      <td>0.0</td>\n",
       "      <td>0.0</td>\n",
       "      <td>-260.0</td>\n",
       "      <td>230.0</td>\n",
       "      <td>0.722222</td>\n",
       "      <td>0.303030</td>\n",
       "      <td>0.709596</td>\n",
       "    </tr>\n",
       "    <tr>\n",
       "      <th>18231</th>\n",
       "      <td>2017-05-11</td>\n",
       "      <td>0</td>\n",
       "      <td>Thu</td>\n",
       "      <td>SEA</td>\n",
       "      <td>AL</td>\n",
       "      <td>35</td>\n",
       "      <td>TOR</td>\n",
       "      <td>AL</td>\n",
       "      <td>35</td>\n",
       "      <td>2</td>\n",
       "      <td>...</td>\n",
       "      <td>0.0</td>\n",
       "      <td>0.0</td>\n",
       "      <td>0.0</td>\n",
       "      <td>0.0</td>\n",
       "      <td>0.0</td>\n",
       "      <td>-158.0</td>\n",
       "      <td>143.0</td>\n",
       "      <td>0.612403</td>\n",
       "      <td>0.411523</td>\n",
       "      <td>0.600440</td>\n",
       "    </tr>\n",
       "    <tr>\n",
       "      <th>25440</th>\n",
       "      <td>2019-09-21</td>\n",
       "      <td>0</td>\n",
       "      <td>Sat</td>\n",
       "      <td>SFN</td>\n",
       "      <td>NL</td>\n",
       "      <td>155</td>\n",
       "      <td>ATL</td>\n",
       "      <td>NL</td>\n",
       "      <td>156</td>\n",
       "      <td>1</td>\n",
       "      <td>...</td>\n",
       "      <td>0.0</td>\n",
       "      <td>0.0</td>\n",
       "      <td>0.0</td>\n",
       "      <td>0.0</td>\n",
       "      <td>0.0</td>\n",
       "      <td>-145.0</td>\n",
       "      <td>135.0</td>\n",
       "      <td>0.591837</td>\n",
       "      <td>0.425532</td>\n",
       "      <td>0.583152</td>\n",
       "    </tr>\n",
       "    <tr>\n",
       "      <th>21937</th>\n",
       "      <td>2018-07-23</td>\n",
       "      <td>0</td>\n",
       "      <td>Mon</td>\n",
       "      <td>OAK</td>\n",
       "      <td>AL</td>\n",
       "      <td>101</td>\n",
       "      <td>TEX</td>\n",
       "      <td>AL</td>\n",
       "      <td>101</td>\n",
       "      <td>15</td>\n",
       "      <td>...</td>\n",
       "      <td>0.0</td>\n",
       "      <td>0.0</td>\n",
       "      <td>0.0</td>\n",
       "      <td>0.0</td>\n",
       "      <td>0.0</td>\n",
       "      <td>-106.0</td>\n",
       "      <td>-104.0</td>\n",
       "      <td>0.514563</td>\n",
       "      <td>0.509804</td>\n",
       "      <td>0.502380</td>\n",
       "    </tr>\n",
       "  </tbody>\n",
       "</table>\n",
       "<p>5 rows × 112 columns</p>\n",
       "</div>"
      ],
      "text/plain": [
       "             date  dblheader_code day_of_week team_v league_v  game_no_v  \\\n",
       "15854  2016-05-21               0         Sat    WAS       NL         43   \n",
       "26356  2020-09-06               0         Sun    MIL       NL         39   \n",
       "18231  2017-05-11               0         Thu    SEA       AL         35   \n",
       "25440  2019-09-21               0         Sat    SFN       NL        155   \n",
       "21937  2018-07-23               0         Mon    OAK       AL        101   \n",
       "\n",
       "      team_h league_h  game_no_h  runs_v  ...  CS_30_v  ERR_162_h ERR_162_v  \\\n",
       "15854    MIA       NL         42       2  ...      0.0        0.0       0.0   \n",
       "26356    CLE       AL         40       1  ...      0.0        0.0       0.0   \n",
       "18231    TOR       AL         35       2  ...      0.0        0.0       0.0   \n",
       "25440    ATL       NL        156       1  ...      0.0        0.0       0.0   \n",
       "21937    TEX       AL        101      15  ...      0.0        0.0       0.0   \n",
       "\n",
       "      ERR_30_h  ERR_30_v   ML_h   ML_v  imp_prob_h  imp_prob_v  imp_prob_mid_h  \n",
       "15854      0.0       0.0 -142.0  127.0    0.586777    0.440529        0.573124  \n",
       "26356      0.0       0.0 -260.0  230.0    0.722222    0.303030        0.709596  \n",
       "18231      0.0       0.0 -158.0  143.0    0.612403    0.411523        0.600440  \n",
       "25440      0.0       0.0 -145.0  135.0    0.591837    0.425532        0.583152  \n",
       "21937      0.0       0.0 -106.0 -104.0    0.514563    0.509804        0.502380  \n",
       "\n",
       "[5 rows x 112 columns]"
      ]
     },
     "execution_count": 19,
     "metadata": {},
     "output_type": "execute_result"
    }
   ],
   "source": [
    "df_odds = df[(df.season >= 2012) & (df.season <= 2021)]\n",
    "df_odds.sample(5)"
   ]
  },
  {
   "cell_type": "code",
   "execution_count": null,
   "metadata": {},
   "outputs": [
    {
     "data": {
      "text/plain": [
       "(array([0.00e+00, 0.00e+00, 0.00e+00, 1.00e+00, 1.00e+00, 1.00e+00,\n",
       "        1.00e+00, 4.00e+00, 9.00e+00, 1.30e+01, 1.20e+01, 1.10e+01,\n",
       "        2.50e+01, 3.30e+01, 4.50e+01, 7.10e+01, 8.70e+01, 1.00e+02,\n",
       "        1.19e+02, 1.53e+02, 2.35e+02, 1.76e+02, 2.72e+02, 3.30e+02,\n",
       "        3.44e+02, 4.42e+02, 4.92e+02, 4.56e+02, 4.56e+02, 7.63e+02,\n",
       "        6.69e+02, 7.05e+02, 7.52e+02, 7.42e+02, 9.90e+02, 1.29e+03,\n",
       "        8.62e+02, 9.13e+02, 9.89e+02, 9.58e+02, 1.29e+03, 8.00e+02,\n",
       "        9.29e+02, 9.98e+02, 8.63e+02, 8.53e+02, 8.35e+02, 8.13e+02,\n",
       "        5.82e+02, 8.11e+02, 3.43e+02, 4.25e+02, 2.75e+02, 3.30e+02,\n",
       "        1.91e+02, 2.49e+02, 1.38e+02, 1.49e+02, 1.12e+02, 7.20e+01,\n",
       "        5.30e+01, 4.90e+01, 1.90e+01, 1.60e+01, 8.00e+00, 1.00e+00,\n",
       "        3.00e+00, 3.00e+00, 0.00e+00, 0.00e+00]),\n",
       " array([0.15, 0.16, 0.17, 0.18, 0.19, 0.2 , 0.21, 0.22, 0.23, 0.24, 0.25,\n",
       "        0.26, 0.27, 0.28, 0.29, 0.3 , 0.31, 0.32, 0.33, 0.34, 0.35, 0.36,\n",
       "        0.37, 0.38, 0.39, 0.4 , 0.41, 0.42, 0.43, 0.44, 0.45, 0.46, 0.47,\n",
       "        0.48, 0.49, 0.5 , 0.51, 0.52, 0.53, 0.54, 0.55, 0.56, 0.57, 0.58,\n",
       "        0.59, 0.6 , 0.61, 0.62, 0.63, 0.64, 0.65, 0.66, 0.67, 0.68, 0.69,\n",
       "        0.7 , 0.71, 0.72, 0.73, 0.74, 0.75, 0.76, 0.77, 0.78, 0.79, 0.8 ,\n",
       "        0.81, 0.82, 0.83, 0.84, 0.85]),\n",
       " <BarContainer object of 70 artists>)"
      ]
     },
     "execution_count": 21,
     "metadata": {},
     "output_type": "execute_result"
    },
    {
     "data": {
      "image/png": "[encoded data removed]",
      "text/plain": [
       "<Figure size 640x480 with 1 Axes>"
      ]
     },
     "metadata": {},
     "output_type": "display_data"
    }
   ],
   "source": [
    "# Shape of what the Vegas odds are for the games\n",
    "plt.hist(df_odds.imp_prob_mid_h, bins=np.linspace(.15,.85,71))"
   ]
  },
  {
   "cell_type": "code",
   "execution_count": null,
   "metadata": {},
   "outputs": [],
   "source": [
    "plt.hist(df_odds.imp_prob_h + df_odds.imp_prob_v, bins=np.linspace(1,1.06,61));"
   ]
  }
 ],
 "metadata": {
  "kernelspec": {
   "display_name": "venv",
   "language": "python",
   "name": "python3"
  },
  "language_info": {
   "codemirror_mode": {
    "name": "ipython",
    "version": 3
   },
   "file_extension": ".py",
   "mimetype": "text/x-python",
   "name": "python",
   "nbconvert_exporter": "python",
   "pygments_lexer": "ipython3",
   "version": "3.13.5"
  }
 },
 "nbformat": 4,
 "nbformat_minor": 2
}
