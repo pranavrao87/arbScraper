{
 "cells": [
  {
   "cell_type": "code",
   "execution_count": 5,
   "metadata": {},
   "outputs": [],
   "source": [
    "import pandas as pd\n",
    "from sklearn.linear_model import LogisticRegression\n",
    "from sklearn.model_selection import train_test_split\n",
    "from sklearn.metrics import accuracy_score, classification_report, confusion_matrix, roc_auc_score"
   ]
  },
  {
   "cell_type": "markdown",
   "metadata": {},
   "source": [
    "Starting off w/ just batting statistics (no pitching stuff just yet)\n",
    "- On Base Percentage (last season avg and last 30 games)\n",
    "- Slugging Percentage (last season avg and last 30 games) "
   ]
  },
  {
   "cell_type": "code",
   "execution_count": 8,
   "metadata": {},
   "outputs": [
    {
     "name": "stderr",
     "output_type": "stream",
     "text": [
      "/var/folders/x4/9gxy2p1d4nd09kxmx07_g7b00000gn/T/ipykernel_92951/3410908323.py:1: DtypeWarning: Columns (15) have mixed types. Specify dtype option on import or set low_memory=False.\n",
      "  df = pd.read_csv(\"df_bp1.csv\")\n"
     ]
    }
   ],
   "source": [
    "df = pd.read_csv(\"df_bp1.csv\")\n",
    "\n",
    "\n",
    "features = [\"OBP_162_h\", \"OBP_162_v\", \"SLG_162_h\", \"SLG_162_v\",\n",
    "            \"OBP_30_h\", \"OBP_30_v\", \"SLG_30_h\", \"SLG_30_v\",]\n",
    "\n",
    "target = \"home_victory\"\n",
    "\n",
    "X = df.loc[:,features]\n",
    "y = df[target]\n",
    "\n",
    "\n",
    "X_train, X_test, y_train, y_test = train_test_split(X, y, test_size=0.2, stratify=y, random_state=42)\n",
    "\n",
    "model = LogisticRegression()\n",
    "model.fit(X_train, y_train)\n",
    "\n",
    "y_pred = model.predict(X_test)\n"
   ]
  },
  {
   "cell_type": "code",
   "execution_count": 11,
   "metadata": {},
   "outputs": [
    {
     "name": "stdout",
     "output_type": "stream",
     "text": [
      "Accuracy: 0.5341543749104969\n"
     ]
    }
   ],
   "source": [
    "print(\"Accuracy:\", accuracy_score(y_test, y_pred))"
   ]
  },
  {
   "cell_type": "code",
   "execution_count": null,
   "metadata": {},
   "outputs": [
    {
     "ename": "XMLSyntaxError",
     "evalue": "no text parsed from document (<string>, line 0)",
     "output_type": "error",
     "traceback": [
      "Traceback \u001b[36m(most recent call last)\u001b[39m:\n",
      "  File \u001b[92m~/Documents/arbScraper/venv/lib/python3.13/site-packages/IPython/core/interactiveshell.py:3699\u001b[39m in \u001b[95mrun_code\u001b[39m\n    exec(code_obj, self.user_global_ns, self.user_ns)\n",
      "  Cell \u001b[92mIn[12]\u001b[39m\u001b[92m, line 2\u001b[39m\n    tables = pd.read_html(url)\n",
      "  File \u001b[92m~/Documents/arbScraper/venv/lib/python3.13/site-packages/pandas/io/html.py:1240\u001b[39m in \u001b[95mread_html\u001b[39m\n    return _parse(\n",
      "  File \u001b[92m~/Documents/arbScraper/venv/lib/python3.13/site-packages/pandas/io/html.py:983\u001b[39m in \u001b[95m_parse\u001b[39m\n    tables = p.parse_tables()\n",
      "  File \u001b[92m~/Documents/arbScraper/venv/lib/python3.13/site-packages/pandas/io/html.py:249\u001b[39m in \u001b[95mparse_tables\u001b[39m\n    tables = self._parse_tables(self._build_doc(), self.match, self.attrs)\n",
      "\u001b[36m  \u001b[39m\u001b[36mFile \u001b[39m\u001b[32m~/Documents/arbScraper/venv/lib/python3.13/site-packages/pandas/io/html.py:809\u001b[39m\u001b[36m in \u001b[39m\u001b[35m_build_doc\u001b[39m\n\u001b[31m    \u001b[39m\u001b[31mraise XMLSyntaxError(\"no text parsed from document\", 0, 0, 0)\u001b[39m\n",
      "  \u001b[36mFile \u001b[39m\u001b[32m<string>\u001b[39m\n\u001b[31mXMLSyntaxError\u001b[39m\u001b[31m:\u001b[39m no text parsed from document\n"
     ]
    }
   ],
   "source": [
    "import requests\n",
    "url = 'https://www.oddsshark.com/stats/gamelog/baseball/mlb/27024?season=2022'\n",
    "\n",
    "print(requests.get(\"https://www.oddsshark.com/stats/gamelog/baseball/mlb/27024?season=2022\").text[:1000])\n"
   ]
  }
 ],
 "metadata": {
  "kernelspec": {
   "display_name": "venv",
   "language": "python",
   "name": "python3"
  },
  "language_info": {
   "codemirror_mode": {
    "name": "ipython",
    "version": 3
   },
   "file_extension": ".py",
   "mimetype": "text/x-python",
   "name": "python",
   "nbconvert_exporter": "python",
   "pygments_lexer": "ipython3",
   "version": "3.13.5"
  }
 },
 "nbformat": 4,
 "nbformat_minor": 2
}
